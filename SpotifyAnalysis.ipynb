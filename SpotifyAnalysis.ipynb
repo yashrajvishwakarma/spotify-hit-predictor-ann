{
  "nbformat": 4,
  "nbformat_minor": 0,
  "metadata": {
    "colab": {
      "name": "SpotifyAnalysis.ipynb",
      "provenance": []
    },
    "kernelspec": {
      "name": "python3",
      "display_name": "Python 3"
    },
    "language_info": {
      "name": "python"
    },
    "accelerator": "GPU"
  },
  "cells": [
    {
      "cell_type": "code",
      "metadata": {
        "id": "5CkOMPEy-LTA"
      },
      "source": [
        "import pandas as pd\n",
        "from sklearn.linear_model import LogisticRegression\n",
        "import tensorflow as tf"
      ],
      "execution_count": 3,
      "outputs": []
    },
    {
      "cell_type": "code",
      "metadata": {
        "colab": {
          "resources": {
            "http://localhost:8080/nbextensions/google.colab/files.js": {
              "data": "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",
              "ok": true,
              "headers": [
                [
                  "content-type",
                  "application/javascript"
                ]
              ],
              "status": 200,
              "status_text": ""
            }
          },
          "base_uri": "https://localhost:8080/",
          "height": 72
        },
        "id": "SKpltQYe-dYY",
        "outputId": "24ca1f8a-a538-449f-f52d-70e616da346d"
      },
      "source": [
        "from google.colab import files\n",
        "\n",
        "files = files.upload()"
      ],
      "execution_count": 4,
      "outputs": [
        {
          "output_type": "display_data",
          "data": {
            "text/html": [
              "\n",
              "     <input type=\"file\" id=\"files-609288fe-9b73-46b5-9772-e92eef0229fd\" name=\"files[]\" multiple disabled\n",
              "        style=\"border:none\" />\n",
              "     <output id=\"result-609288fe-9b73-46b5-9772-e92eef0229fd\">\n",
              "      Upload widget is only available when the cell has been executed in the\n",
              "      current browser session. Please rerun this cell to enable.\n",
              "      </output>\n",
              "      <script src=\"/nbextensions/google.colab/files.js\"></script> "
            ],
            "text/plain": [
              "<IPython.core.display.HTML object>"
            ]
          },
          "metadata": {}
        },
        {
          "output_type": "stream",
          "name": "stdout",
          "text": [
            "Saving dataset-of-10s.csv to dataset-of-10s.csv\n"
          ]
        }
      ]
    },
    {
      "cell_type": "code",
      "metadata": {
        "id": "XF5D50zWBX8F"
      },
      "source": [
        "import io"
      ],
      "execution_count": 5,
      "outputs": []
    },
    {
      "cell_type": "code",
      "metadata": {
        "id": "tm7hDPrkBb5V"
      },
      "source": [
        "data = pd.read_csv(io.BytesIO(files['dataset-of-10s.csv']))"
      ],
      "execution_count": 6,
      "outputs": []
    },
    {
      "cell_type": "code",
      "metadata": {
        "colab": {
          "base_uri": "https://localhost:8080/",
          "height": 377
        },
        "id": "syj0mr4zBmwj",
        "outputId": "aabb7f29-ad39-4711-8c6e-9c211009dc5b"
      },
      "source": [
        "data.head()"
      ],
      "execution_count": 7,
      "outputs": [
        {
          "output_type": "execute_result",
          "data": {
            "text/html": [
              "<div>\n",
              "<style scoped>\n",
              "    .dataframe tbody tr th:only-of-type {\n",
              "        vertical-align: middle;\n",
              "    }\n",
              "\n",
              "    .dataframe tbody tr th {\n",
              "        vertical-align: top;\n",
              "    }\n",
              "\n",
              "    .dataframe thead th {\n",
              "        text-align: right;\n",
              "    }\n",
              "</style>\n",
              "<table border=\"1\" class=\"dataframe\">\n",
              "  <thead>\n",
              "    <tr style=\"text-align: right;\">\n",
              "      <th></th>\n",
              "      <th>track</th>\n",
              "      <th>artist</th>\n",
              "      <th>uri</th>\n",
              "      <th>danceability</th>\n",
              "      <th>energy</th>\n",
              "      <th>key</th>\n",
              "      <th>loudness</th>\n",
              "      <th>mode</th>\n",
              "      <th>speechiness</th>\n",
              "      <th>acousticness</th>\n",
              "      <th>instrumentalness</th>\n",
              "      <th>liveness</th>\n",
              "      <th>valence</th>\n",
              "      <th>tempo</th>\n",
              "      <th>duration_ms</th>\n",
              "      <th>time_signature</th>\n",
              "      <th>chorus_hit</th>\n",
              "      <th>sections</th>\n",
              "      <th>target</th>\n",
              "    </tr>\n",
              "  </thead>\n",
              "  <tbody>\n",
              "    <tr>\n",
              "      <th>0</th>\n",
              "      <td>Wild Things</td>\n",
              "      <td>Alessia Cara</td>\n",
              "      <td>spotify:track:2ZyuwVvV6Z3XJaXIFbspeE</td>\n",
              "      <td>0.741</td>\n",
              "      <td>0.626</td>\n",
              "      <td>1</td>\n",
              "      <td>-4.826</td>\n",
              "      <td>0</td>\n",
              "      <td>0.0886</td>\n",
              "      <td>0.02000</td>\n",
              "      <td>0.000</td>\n",
              "      <td>0.0828</td>\n",
              "      <td>0.706</td>\n",
              "      <td>108.029</td>\n",
              "      <td>188493</td>\n",
              "      <td>4</td>\n",
              "      <td>41.18681</td>\n",
              "      <td>10</td>\n",
              "      <td>1</td>\n",
              "    </tr>\n",
              "    <tr>\n",
              "      <th>1</th>\n",
              "      <td>Surfboard</td>\n",
              "      <td>Esquivel!</td>\n",
              "      <td>spotify:track:61APOtq25SCMuK0V5w2Kgp</td>\n",
              "      <td>0.447</td>\n",
              "      <td>0.247</td>\n",
              "      <td>5</td>\n",
              "      <td>-14.661</td>\n",
              "      <td>0</td>\n",
              "      <td>0.0346</td>\n",
              "      <td>0.87100</td>\n",
              "      <td>0.814</td>\n",
              "      <td>0.0946</td>\n",
              "      <td>0.250</td>\n",
              "      <td>155.489</td>\n",
              "      <td>176880</td>\n",
              "      <td>3</td>\n",
              "      <td>33.18083</td>\n",
              "      <td>9</td>\n",
              "      <td>0</td>\n",
              "    </tr>\n",
              "    <tr>\n",
              "      <th>2</th>\n",
              "      <td>Love Someone</td>\n",
              "      <td>Lukas Graham</td>\n",
              "      <td>spotify:track:2JqnpexlO9dmvjUMCaLCLJ</td>\n",
              "      <td>0.550</td>\n",
              "      <td>0.415</td>\n",
              "      <td>9</td>\n",
              "      <td>-6.557</td>\n",
              "      <td>0</td>\n",
              "      <td>0.0520</td>\n",
              "      <td>0.16100</td>\n",
              "      <td>0.000</td>\n",
              "      <td>0.1080</td>\n",
              "      <td>0.274</td>\n",
              "      <td>172.065</td>\n",
              "      <td>205463</td>\n",
              "      <td>4</td>\n",
              "      <td>44.89147</td>\n",
              "      <td>9</td>\n",
              "      <td>1</td>\n",
              "    </tr>\n",
              "    <tr>\n",
              "      <th>3</th>\n",
              "      <td>Music To My Ears (feat. Tory Lanez)</td>\n",
              "      <td>Keys N Krates</td>\n",
              "      <td>spotify:track:0cjfLhk8WJ3etPTCseKXtk</td>\n",
              "      <td>0.502</td>\n",
              "      <td>0.648</td>\n",
              "      <td>0</td>\n",
              "      <td>-5.698</td>\n",
              "      <td>0</td>\n",
              "      <td>0.0527</td>\n",
              "      <td>0.00513</td>\n",
              "      <td>0.000</td>\n",
              "      <td>0.2040</td>\n",
              "      <td>0.291</td>\n",
              "      <td>91.837</td>\n",
              "      <td>193043</td>\n",
              "      <td>4</td>\n",
              "      <td>29.52521</td>\n",
              "      <td>7</td>\n",
              "      <td>0</td>\n",
              "    </tr>\n",
              "    <tr>\n",
              "      <th>4</th>\n",
              "      <td>Juju On That Beat (TZ Anthem)</td>\n",
              "      <td>Zay Hilfigerrr &amp; Zayion McCall</td>\n",
              "      <td>spotify:track:1lItf5ZXJc1by9SbPeljFd</td>\n",
              "      <td>0.807</td>\n",
              "      <td>0.887</td>\n",
              "      <td>1</td>\n",
              "      <td>-3.892</td>\n",
              "      <td>1</td>\n",
              "      <td>0.2750</td>\n",
              "      <td>0.00381</td>\n",
              "      <td>0.000</td>\n",
              "      <td>0.3910</td>\n",
              "      <td>0.780</td>\n",
              "      <td>160.517</td>\n",
              "      <td>144244</td>\n",
              "      <td>4</td>\n",
              "      <td>24.99199</td>\n",
              "      <td>8</td>\n",
              "      <td>1</td>\n",
              "    </tr>\n",
              "  </tbody>\n",
              "</table>\n",
              "</div>"
            ],
            "text/plain": [
              "                                 track  ... target\n",
              "0                          Wild Things  ...      1\n",
              "1                            Surfboard  ...      0\n",
              "2                         Love Someone  ...      1\n",
              "3  Music To My Ears (feat. Tory Lanez)  ...      0\n",
              "4        Juju On That Beat (TZ Anthem)  ...      1\n",
              "\n",
              "[5 rows x 19 columns]"
            ]
          },
          "metadata": {},
          "execution_count": 7
        }
      ]
    },
    {
      "cell_type": "code",
      "metadata": {
        "colab": {
          "base_uri": "https://localhost:8080/"
        },
        "id": "MZn4T_CsBowW",
        "outputId": "a16cf5b0-7e02-48a0-fcd8-2d0f0836f588"
      },
      "source": [
        "data.shape"
      ],
      "execution_count": 8,
      "outputs": [
        {
          "output_type": "execute_result",
          "data": {
            "text/plain": [
              "(6398, 19)"
            ]
          },
          "metadata": {},
          "execution_count": 8
        }
      ]
    },
    {
      "cell_type": "code",
      "metadata": {
        "id": "Q5FFko6NBo5M"
      },
      "source": [
        "model = LogisticRegression(solver='lbfgs',max_iter=1000)"
      ],
      "execution_count": 9,
      "outputs": []
    },
    {
      "cell_type": "code",
      "metadata": {
        "id": "0JuykdZ2BpEZ"
      },
      "source": [
        "from sklearn.model_selection import train_test_split\n",
        "X_data = data.drop(['track','artist','uri','target'], axis=1)"
      ],
      "execution_count": 10,
      "outputs": []
    },
    {
      "cell_type": "code",
      "metadata": {
        "id": "j1NBXuFxP1gv"
      },
      "source": [
        "normalized=(X_data-X_data.min())/(X_data.max()-X_data.min())"
      ],
      "execution_count": 11,
      "outputs": []
    },
    {
      "cell_type": "code",
      "metadata": {
        "id": "xBoPGOOkCbRw"
      },
      "source": [
        "X_train, X_test, y_train, y_test = train_test_split(normalized, data['target'], test_size=0.2, random_state=0)"
      ],
      "execution_count": 12,
      "outputs": []
    },
    {
      "cell_type": "code",
      "metadata": {
        "colab": {
          "base_uri": "https://localhost:8080/"
        },
        "id": "qINw_dvnCo-g",
        "outputId": "f8f40bfd-70bd-48ed-dd6a-1d9cbcbc6860"
      },
      "source": [
        "model.fit(X_train, y_train)"
      ],
      "execution_count": 13,
      "outputs": [
        {
          "output_type": "execute_result",
          "data": {
            "text/plain": [
              "LogisticRegression(C=1.0, class_weight=None, dual=False, fit_intercept=True,\n",
              "                   intercept_scaling=1, l1_ratio=None, max_iter=1000,\n",
              "                   multi_class='auto', n_jobs=None, penalty='l2',\n",
              "                   random_state=None, solver='lbfgs', tol=0.0001, verbose=0,\n",
              "                   warm_start=False)"
            ]
          },
          "metadata": {},
          "execution_count": 13
        }
      ]
    },
    {
      "cell_type": "code",
      "metadata": {
        "id": "lD1IWhqcCsRF"
      },
      "source": [
        "prediction = model.predict(X_test)"
      ],
      "execution_count": 14,
      "outputs": []
    },
    {
      "cell_type": "code",
      "metadata": {
        "colab": {
          "base_uri": "https://localhost:8080/"
        },
        "id": "KBKrIUKlCx0W",
        "outputId": "06b1664d-4a82-46e0-b13e-bb80ffd8d4ed"
      },
      "source": [
        "from sklearn.metrics import accuracy_score\n",
        "print(accuracy_score(y_test, prediction))"
      ],
      "execution_count": 15,
      "outputs": [
        {
          "output_type": "stream",
          "name": "stdout",
          "text": [
            "0.8109375\n"
          ]
        }
      ]
    },
    {
      "cell_type": "code",
      "metadata": {
        "colab": {
          "base_uri": "https://localhost:8080/",
          "height": 550
        },
        "id": "F9Ae6z-7EOlq",
        "outputId": "67970071-655c-4d0a-e667-2978a7636ba0"
      },
      "source": [
        "from sklearn.metrics import confusion_matrix, ConfusionMatrixDisplay\n",
        "import seaborn as sns\n",
        "cm = confusion_matrix(y_test, prediction)\n",
        "sns.heatmap(cm, annot=True)\n",
        "disp = ConfusionMatrixDisplay(confusion_matrix=cm, display_labels=model.classes_)\n",
        "disp.plot()"
      ],
      "execution_count": 16,
      "outputs": [
        {
          "output_type": "execute_result",
          "data": {
            "text/plain": [
              "<sklearn.metrics._plot.confusion_matrix.ConfusionMatrixDisplay at 0x7f8b6c314310>"
            ]
          },
          "metadata": {},
          "execution_count": 16
        },
        {
          "output_type": "display_data",
          "data": {
            "image/png": "[encoded data removed]",
            "text/plain": [
              "<Figure size 432x288 with 2 Axes>"
            ]
          },
          "metadata": {
            "needs_background": "light"
          }
        },
        {
          "output_type": "display_data",
          "data": {
            "image/png": "[encoded data removed]",
            "text/plain": [
              "<Figure size 432x288 with 2 Axes>"
            ]
          },
          "metadata": {
            "needs_background": "light"
          }
        }
      ]
    },
    {
      "cell_type": "code",
      "metadata": {
        "id": "zNfcdmQMPEMm"
      },
      "source": [
        "X_train = tf.keras.utils.normalize(X_train, axis=1)\n",
        "X_test = tf.keras.utils.normalize(X_test, axis=1)"
      ],
      "execution_count": 17,
      "outputs": []
    },
    {
      "cell_type": "code",
      "metadata": {
        "id": "XctLAWi2Q5Eq"
      },
      "source": [
        "from keras.models import Sequential\n",
        "from keras.layers import Flatten, Dense, Activation\n",
        "import matplotlib.pyplot as plt"
      ],
      "execution_count": 18,
      "outputs": []
    },
    {
      "cell_type": "code",
      "metadata": {
        "colab": {
          "base_uri": "https://localhost:8080/",
          "height": 1000
        },
        "id": "rPGIut1KRKrl",
        "outputId": "e5580ad6-0469-4f47-b7f0-af1d1536b87a"
      },
      "source": [
        "ann = Sequential()\n",
        "ann.add(Flatten())\n",
        "\n",
        "ann.add(Dense(32))\n",
        "ann.add(Activation('relu'))\n",
        "ann.add(Dense(64))\n",
        "ann.add(Activation('relu'))\n",
        "ann.add(Dense(128))\n",
        "ann.add(Activation('relu'))\n",
        "\n",
        "ann.add(Dense(2))\n",
        "ann.add(Activation('softmax'))\n",
        "\n",
        "optimizer = tf.keras.optimizers.RMSprop(learning_rate=0.0001, decay=1e-6)\n",
        "\n",
        "ann.compile(loss='sparse_categorical_crossentropy',\n",
        "              optimizer=optimizer,\n",
        "              metrics=['accuracy'])\n",
        "\n",
        "history = ann.fit(X_train, y_train, \\\n",
        "                    validation_data=(X_test, y_test), \\\n",
        "                    epochs=50)\n",
        "print(history.history.keys())\n",
        "plt.plot(history.history['accuracy'])\n",
        "plt.plot(history.history['val_accuracy'])\n",
        "plt.xlabel('Epochs')\n",
        "plt.ylabel('Accuracy')\n",
        "plt.legend(['train data', 'test data'])\n",
        "plt.show()"
      ],
      "execution_count": 20,
      "outputs": [
        {
          "output_type": "stream",
          "name": "stdout",
          "text": [
            "Epoch 1/50\n",
            "160/160 [==============================] - 1s 5ms/step - loss: 0.6754 - accuracy: 0.6077 - val_loss: 0.6592 - val_accuracy: 0.6891\n",
            "Epoch 2/50\n",
            "160/160 [==============================] - 1s 4ms/step - loss: 0.6442 - accuracy: 0.6940 - val_loss: 0.6221 - val_accuracy: 0.7273\n",
            "Epoch 3/50\n",
            "160/160 [==============================] - 1s 4ms/step - loss: 0.6056 - accuracy: 0.7118 - val_loss: 0.5789 - val_accuracy: 0.7344\n",
            "Epoch 4/50\n",
            "160/160 [==============================] - 1s 4ms/step - loss: 0.5682 - accuracy: 0.7198 - val_loss: 0.5422 - val_accuracy: 0.7336\n",
            "Epoch 5/50\n",
            "160/160 [==============================] - 1s 4ms/step - loss: 0.5413 - accuracy: 0.7249 - val_loss: 0.5167 - val_accuracy: 0.7437\n",
            "Epoch 6/50\n",
            "160/160 [==============================] - 1s 4ms/step - loss: 0.5226 - accuracy: 0.7323 - val_loss: 0.5006 - val_accuracy: 0.7609\n",
            "Epoch 7/50\n",
            "160/160 [==============================] - 1s 4ms/step - loss: 0.5097 - accuracy: 0.7429 - val_loss: 0.4857 - val_accuracy: 0.7656\n",
            "Epoch 8/50\n",
            "160/160 [==============================] - 1s 4ms/step - loss: 0.4995 - accuracy: 0.7483 - val_loss: 0.4740 - val_accuracy: 0.7711\n",
            "Epoch 9/50\n",
            "160/160 [==============================] - 1s 4ms/step - loss: 0.4905 - accuracy: 0.7595 - val_loss: 0.4648 - val_accuracy: 0.7750\n",
            "Epoch 10/50\n",
            "160/160 [==============================] - 1s 4ms/step - loss: 0.4834 - accuracy: 0.7671 - val_loss: 0.4594 - val_accuracy: 0.7734\n",
            "Epoch 11/50\n",
            "160/160 [==============================] - 1s 4ms/step - loss: 0.4775 - accuracy: 0.7679 - val_loss: 0.4538 - val_accuracy: 0.7812\n",
            "Epoch 12/50\n",
            "160/160 [==============================] - 1s 4ms/step - loss: 0.4721 - accuracy: 0.7714 - val_loss: 0.4488 - val_accuracy: 0.7836\n",
            "Epoch 13/50\n",
            "160/160 [==============================] - 1s 4ms/step - loss: 0.4680 - accuracy: 0.7720 - val_loss: 0.4431 - val_accuracy: 0.7820\n",
            "Epoch 14/50\n",
            "160/160 [==============================] - 1s 5ms/step - loss: 0.4639 - accuracy: 0.7769 - val_loss: 0.4404 - val_accuracy: 0.7898\n",
            "Epoch 15/50\n",
            "160/160 [==============================] - 1s 4ms/step - loss: 0.4606 - accuracy: 0.7808 - val_loss: 0.4329 - val_accuracy: 0.7914\n",
            "Epoch 16/50\n",
            "160/160 [==============================] - 1s 4ms/step - loss: 0.4571 - accuracy: 0.7829 - val_loss: 0.4342 - val_accuracy: 0.7961\n",
            "Epoch 17/50\n",
            "160/160 [==============================] - 1s 4ms/step - loss: 0.4544 - accuracy: 0.7849 - val_loss: 0.4305 - val_accuracy: 0.7953\n",
            "Epoch 18/50\n",
            "160/160 [==============================] - 1s 4ms/step - loss: 0.4520 - accuracy: 0.7872 - val_loss: 0.4245 - val_accuracy: 0.7992\n",
            "Epoch 19/50\n",
            "160/160 [==============================] - 1s 4ms/step - loss: 0.4491 - accuracy: 0.7905 - val_loss: 0.4264 - val_accuracy: 0.7961\n",
            "Epoch 20/50\n",
            "160/160 [==============================] - 1s 4ms/step - loss: 0.4460 - accuracy: 0.7960 - val_loss: 0.4188 - val_accuracy: 0.8055\n",
            "Epoch 21/50\n",
            "160/160 [==============================] - 1s 4ms/step - loss: 0.4452 - accuracy: 0.7925 - val_loss: 0.4193 - val_accuracy: 0.8062\n",
            "Epoch 22/50\n",
            "160/160 [==============================] - 1s 4ms/step - loss: 0.4430 - accuracy: 0.7960 - val_loss: 0.4223 - val_accuracy: 0.7977\n",
            "Epoch 23/50\n",
            "160/160 [==============================] - 1s 4ms/step - loss: 0.4420 - accuracy: 0.7943 - val_loss: 0.4185 - val_accuracy: 0.8016\n",
            "Epoch 24/50\n",
            "160/160 [==============================] - 1s 4ms/step - loss: 0.4403 - accuracy: 0.7962 - val_loss: 0.4127 - val_accuracy: 0.8086\n",
            "Epoch 25/50\n",
            "160/160 [==============================] - 1s 4ms/step - loss: 0.4389 - accuracy: 0.7966 - val_loss: 0.4100 - val_accuracy: 0.8086\n",
            "Epoch 26/50\n",
            "160/160 [==============================] - 1s 4ms/step - loss: 0.4372 - accuracy: 0.7966 - val_loss: 0.4108 - val_accuracy: 0.8039\n",
            "Epoch 27/50\n",
            "160/160 [==============================] - 1s 4ms/step - loss: 0.4365 - accuracy: 0.7999 - val_loss: 0.4098 - val_accuracy: 0.8070\n",
            "Epoch 28/50\n",
            "160/160 [==============================] - 1s 4ms/step - loss: 0.4354 - accuracy: 0.7984 - val_loss: 0.4099 - val_accuracy: 0.8078\n",
            "Epoch 29/50\n",
            "160/160 [==============================] - 1s 4ms/step - loss: 0.4340 - accuracy: 0.8027 - val_loss: 0.4067 - val_accuracy: 0.8078\n",
            "Epoch 30/50\n",
            "160/160 [==============================] - 1s 4ms/step - loss: 0.4335 - accuracy: 0.7997 - val_loss: 0.4064 - val_accuracy: 0.8094\n",
            "Epoch 31/50\n",
            "160/160 [==============================] - 1s 4ms/step - loss: 0.4320 - accuracy: 0.8009 - val_loss: 0.4052 - val_accuracy: 0.8102\n",
            "Epoch 32/50\n",
            "160/160 [==============================] - 1s 4ms/step - loss: 0.4312 - accuracy: 0.8030 - val_loss: 0.4066 - val_accuracy: 0.8062\n",
            "Epoch 33/50\n",
            "160/160 [==============================] - 1s 4ms/step - loss: 0.4302 - accuracy: 0.8036 - val_loss: 0.4045 - val_accuracy: 0.8109\n",
            "Epoch 34/50\n",
            "160/160 [==============================] - 1s 4ms/step - loss: 0.4296 - accuracy: 0.8032 - val_loss: 0.4037 - val_accuracy: 0.8086\n",
            "Epoch 35/50\n",
            "160/160 [==============================] - 1s 4ms/step - loss: 0.4283 - accuracy: 0.8036 - val_loss: 0.4060 - val_accuracy: 0.8055\n",
            "Epoch 36/50\n",
            "160/160 [==============================] - 1s 4ms/step - loss: 0.4275 - accuracy: 0.8075 - val_loss: 0.4064 - val_accuracy: 0.8086\n",
            "Epoch 37/50\n",
            "160/160 [==============================] - 1s 4ms/step - loss: 0.4272 - accuracy: 0.8064 - val_loss: 0.4006 - val_accuracy: 0.8117\n",
            "Epoch 38/50\n",
            "160/160 [==============================] - 1s 4ms/step - loss: 0.4258 - accuracy: 0.8073 - val_loss: 0.4013 - val_accuracy: 0.8117\n",
            "Epoch 39/50\n",
            "160/160 [==============================] - 1s 4ms/step - loss: 0.4260 - accuracy: 0.8060 - val_loss: 0.4051 - val_accuracy: 0.8109\n",
            "Epoch 40/50\n",
            "160/160 [==============================] - 1s 4ms/step - loss: 0.4245 - accuracy: 0.8064 - val_loss: 0.3981 - val_accuracy: 0.8156\n",
            "Epoch 41/50\n",
            "160/160 [==============================] - 1s 4ms/step - loss: 0.4242 - accuracy: 0.8083 - val_loss: 0.3965 - val_accuracy: 0.8164\n",
            "Epoch 42/50\n",
            "160/160 [==============================] - 1s 4ms/step - loss: 0.4236 - accuracy: 0.8095 - val_loss: 0.3958 - val_accuracy: 0.8180\n",
            "Epoch 43/50\n",
            "160/160 [==============================] - 1s 4ms/step - loss: 0.4228 - accuracy: 0.8077 - val_loss: 0.4027 - val_accuracy: 0.8133\n",
            "Epoch 44/50\n",
            "160/160 [==============================] - 1s 4ms/step - loss: 0.4222 - accuracy: 0.8091 - val_loss: 0.3994 - val_accuracy: 0.8133\n",
            "Epoch 45/50\n",
            "160/160 [==============================] - 1s 4ms/step - loss: 0.4215 - accuracy: 0.8091 - val_loss: 0.3955 - val_accuracy: 0.8109\n",
            "Epoch 46/50\n",
            "160/160 [==============================] - 1s 4ms/step - loss: 0.4211 - accuracy: 0.8105 - val_loss: 0.4039 - val_accuracy: 0.8148\n",
            "Epoch 47/50\n",
            "160/160 [==============================] - 1s 4ms/step - loss: 0.4198 - accuracy: 0.8101 - val_loss: 0.3930 - val_accuracy: 0.8156\n",
            "Epoch 48/50\n",
            "160/160 [==============================] - 1s 4ms/step - loss: 0.4194 - accuracy: 0.8107 - val_loss: 0.4017 - val_accuracy: 0.8172\n",
            "Epoch 49/50\n",
            "160/160 [==============================] - 1s 4ms/step - loss: 0.4195 - accuracy: 0.8113 - val_loss: 0.3936 - val_accuracy: 0.8195\n",
            "Epoch 50/50\n",
            "160/160 [==============================] - 1s 4ms/step - loss: 0.4194 - accuracy: 0.8122 - val_loss: 0.3922 - val_accuracy: 0.8172\n",
            "dict_keys(['loss', 'accuracy', 'val_loss', 'val_accuracy'])\n"
          ]
        },
        {
          "output_type": "display_data",
          "data": {
            "image/png": "[encoded data removed]",
            "text/plain": [
              "<Figure size 432x288 with 1 Axes>"
            ]
          },
          "metadata": {
            "needs_background": "light"
          }
        }
      ]
    },
    {
      "cell_type": "code",
      "metadata": {
        "id": "EBBV-O1wShlM"
      },
      "source": [
        "probability_model = tf.keras.Sequential([ann, tf.keras.layers.Softmax()])"
      ],
      "execution_count": 21,
      "outputs": []
    },
    {
      "cell_type": "code",
      "metadata": {
        "id": "Os4oN3N8T1Q_"
      },
      "source": [
        "predictions = probability_model.predict(X_test)"
      ],
      "execution_count": 22,
      "outputs": []
    },
    {
      "cell_type": "code",
      "metadata": {
        "colab": {
          "base_uri": "https://localhost:8080/"
        },
        "id": "601wjGh_T4iS",
        "outputId": "e91745b1-4cfe-44d1-a9b7-791982dc4088"
      },
      "source": [
        "predictions[0]"
      ],
      "execution_count": 24,
      "outputs": [
        {
          "output_type": "execute_result",
          "data": {
            "text/plain": [
              "array([0.35549462, 0.64450544], dtype=float32)"
            ]
          },
          "metadata": {},
          "execution_count": 24
        }
      ]
    },
    {
      "cell_type": "code",
      "metadata": {
        "colab": {
          "base_uri": "https://localhost:8080/"
        },
        "id": "wF6ZzF1vT_u4",
        "outputId": "5ae21a51-6952-4153-ff5a-df106c2044ed"
      },
      "source": [
        "import numpy as np\n",
        "np.argmax(predictions[0])"
      ],
      "execution_count": 29,
      "outputs": [
        {
          "output_type": "execute_result",
          "data": {
            "text/plain": [
              "1"
            ]
          },
          "metadata": {},
          "execution_count": 29
        }
      ]
    },
    {
      "cell_type": "code",
      "metadata": {
        "id": "8F0Zs23vUVdT"
      },
      "source": [
        "# Since output is binary (0 for flop, 1 for hit), the model says the song will be a hit. "
      ],
      "execution_count": 30,
      "outputs": []
    }
  ]
}